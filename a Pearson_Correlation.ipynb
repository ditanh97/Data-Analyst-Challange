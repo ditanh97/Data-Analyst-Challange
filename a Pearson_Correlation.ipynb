{
 "cells": [
  {
   "cell_type": "markdown",
   "metadata": {
    "id": "Vd3tZtd3dINk"
   },
   "source": [
    "# **Definisi**\n",
    "\n",
    "Korelasi Pearson adalah alat analisis statistik yang digunakan untuk melihat keeratan hubungan linier antara 2 variabel yang skala datanya adalah interval atau rasio. Sebagai contoh misal dalam sebuah toko satu jenis (andaikata toko lampu saja) terdapat lampu dengan harga yang murah sampai yang paling mahal. Lampu yang murah 'biasanya' terjual dengan kuantitas yang banyak sedangkan lampu dengan harga yang mahal terjual dengan kuantitas yang sedikit, sehingga hubungan antara harga lampu dengan kuantitas dikatakan berkorelasi negatif"
   ]
  },
  {
   "cell_type": "markdown",
   "metadata": {
    "id": "Ky7HsGo5k2Jx"
   },
   "source": [
    "# **Rumus Korelasi**\n",
    "\n",
    "<img src=\"https://editor.analyticsvidhya.com/uploads/39170Formula.JPG\">"
   ]
  },
  {
   "cell_type": "markdown",
   "metadata": {
    "id": "E5Qb_UDudMua"
   },
   "source": [
    "# **Korelasi Positif dan Negatif**\n",
    "Koefisien korelasi (*r*) dapat bernilai positif ( + ) atau negatif ( - ) dan berada pada rentang -1 s.d. 1 mendekati -1 atau 1 maka hubungan keeratan dua variabel semakin kuat. Jika nilainya mendekati 0, maka hubungan keeratan dua variabel semakin lemah. Berikut ini adalah interpretasi besarnya nilai koefisien korelasi.\n",
    "\n",
    "*   0 - 0.2 menyatakan hubungan keeratan sangat lemah\n",
    "*   0.2 - 0.4 menyatakan hubungan keeratan lemah\n",
    "*   0.4 - 0.7 menyatakan hubungan keeratan cukup kuat\n",
    "*   0.7 - 0.9 menyatakan hubungan keeratan kuat\n",
    "*   0,9 - 1 menyatakan hubungan keeratan sangat kuat.\n",
    "\n",
    "Tanda positif dan negatif pada koefisien korelasi menunjukkan arah hubungan. Koefisien korelasi bertanda positif artinya hubungannya berbanding lurus, dimana semakin tinggi nilai variabel *x* maka nilai variabel *y* juga semakin tinggi dan semakin rendah nilai variabel *x* maka nilai variabel *y* juga semakin rendah. Koefisien korelasi bertanda negatif artinya hubungannya berbanding terbalik, dimana semakin tinggi nilai variabel *x* maka nilai variabel *y* semakin rendah dan semakin rendah nilai variabel *x* maka nilai variabel *y* semakin tinggi."
   ]
  },
  {
   "cell_type": "markdown",
   "metadata": {
    "id": "azlfRWSTnxnQ"
   },
   "source": [
    "# **Contoh Perhitungan**\n",
    "\n",
    "Misalkan Anda sedang mempelajari hubungan antara berat dan panjang bayi yang baru lahir (<i>newborn</i>). Anda memiliki berat dan panjang 10 bayi yang lahir bulan lalu di rumah sakit setempat. Setelah Anda mengonversi pengukuran imperial ke metrik, Anda memasukkan data ke dalam tabel berikut :\n",
    "\n",
    "<table>\n",
    "  <tr>\n",
    "    <td align=\"center\">Berat (kg)</td>\n",
    "    <td align=\"center\">Panjang (cm)</td>\n",
    "  </tr>\n",
    "  <tr>\n",
    "    <td align=\"center\">3.63</td>\n",
    "    <td align=\"center\">53.1</td>\n",
    "  </tr>\n",
    "  <tr>\n",
    "    <td align=\"center\">3.02</td>\n",
    "    <td align=\"center\">49.7</td>\n",
    "  </tr>\n",
    "  <tr>\n",
    "    <td align=\"center\">3.82</td>\n",
    "    <td align=\"center\">48.4</td>\n",
    "  </tr>\n",
    "  <tr>\n",
    "    <td align=\"center\">3.42</td>\n",
    "    <td align=\"center\">54.2</td>\n",
    "  </tr>\n",
    "  <tr>\n",
    "    <td align=\"center\">3.59</td>\n",
    "    <td align=\"center\">54.9</td>\n",
    "  </tr>\n",
    "  <tr>\n",
    "    <td align=\"center\">2.87</td>\n",
    "    <td align=\"center\">43.7</td>\n",
    "  </tr>\n",
    "  <tr>\n",
    "    <td align=\"center\">3.03</td>\n",
    "    <td align=\"center\">47.2</td>\n",
    "  </tr>\n",
    "  <tr>\n",
    "    <td align=\"center\">3.46</td>\n",
    "    <td align=\"center\">45.2</td>\n",
    "  </tr>\n",
    "  <tr>\n",
    "    <td align=\"center\">3.36</td>\n",
    "    <td align=\"center\">54.4</td>\n",
    "  </tr>\n",
    "  <tr>\n",
    "    <td align=\"center\">3.3</td>\n",
    "    <td align=\"center\">50.4</td>\n",
    "  </tr>\n",
    "</table>\n",
    "\n",
    "Hitung berapa besar pengaruh berat badan bayi terhadap tinggi badannya lalu representasikan hasilnya!\n",
    "\n",
    "Jawab :     \n",
    "\n",
    "<ol>\n",
    "  <li><b>Langkah 1 : Pendefinisian</b></li>\n",
    "    <p>Misalkan </p>\n",
    "    <p>x = berat badan bayi (kg)</p>\n",
    "    <p>y = panjang badan bayi (cm)</p>\n",
    "\n",
    "  <li><b>Langkah 2 : Tentukan rataan x dan y</b></li>\n",
    "      Gunakan rumus berikut, untuk menghitung rata-rata dari masing-masing kolom\n",
    "\n",
    "  \\begin{equation}\n",
    "  \\bar{x} = \\frac{x_{1}+x_{2}+x_{3}+...+x_{n}}{n}\n",
    "  \\end{equation}\n",
    "  \\begin{equation}\n",
    "  \\bar{x} = \\frac{3.63 + 3.02 + 3.82 + ... + 3.3}{10}\n",
    "  \\end{equation}\n",
    "  \\begin{equation}\n",
    "  \\bar{x} = \\frac{33.5}{10}\n",
    "  \\end{equation}\n",
    "  \\begin{equation}\n",
    "  \\bar{x} = 3.35\n",
    "  \\end{equation}\n",
    "\n",
    "<p> Diperoleh rataan x = 3.35</p>\n",
    "\n",
    "  \\begin{equation}\n",
    "  \\bar{y} = \\frac{y_{1}+y_{2}+y_{3}+...+y_{n}}{n}\n",
    "  \\end{equation}\n",
    "  \\begin{equation}\n",
    "  \\bar{y} = \\frac{53.1 + 49.7 + 48.4 + ... + 50.4}{10}\n",
    "  \\end{equation}\n",
    "  \\begin{equation}\n",
    "  \\bar{y} = \\frac{501.2}{10}\n",
    "  \\end{equation}\n",
    "  \\begin{equation}\n",
    "  \\bar{y} = 50.12\n",
    "  \\end{equation}\n",
    "\n",
    "<p> Diperoleh rataan y = 50.12</p>\n",
    "\n",
    "<li><b>Hitung Bagian Pembilang</b></li>\n",
    "  \\begin{equation}\n",
    "  \\sum_{i=1}^{n}(x_{i} - \\bar{x})\\cdot(y_{i} - \\bar{y})\n",
    "  \\end{equation}\n",
    "  \\begin{equation}\n",
    "  = (3.63 - 3.35)\\cdot(53.1 - 50.12) + (3.02 - 3.35)\\cdot(49.7 - 50.12) + ... (3.3 - 3.35)\\cdot(50.4 - 50.12)\n",
    "  \\end{equation}\n",
    "  \\begin{equation}\n",
    "  = (0.28)\\cdot(2.98) + (-0.33)\\cdot(-0.42) + ... + (-0.05)\\cdot(0.28)\n",
    "  \\end{equation}\n",
    "  \\begin{equation}\n",
    "  = 0.8344 + 0.1386 + ... + (-0.014)\n",
    "  \\end{equation}\n",
    "  \\begin{equation}\n",
    "  = 5.101\n",
    "  \\end{equation}\n",
    "\n",
    "  Sehingga\n",
    "\n",
    "  \\begin{equation}\n",
    "  \\sum_{i=1}^{n}(x_{i} - \\bar{x})\\cdot(y_{i} - \\bar{y}) = 5.101\n",
    "  \\end{equation}\n",
    "\n",
    "  <li><b>Hitung Bagian Penyebut</b></li>\n",
    "  \\begin{equation}\n",
    "  \\sqrt{\\sum_{i=1}^{n}(x_{i} - \\bar{x})^2\\cdot\\sum_{i=1}^{n}(y_{i} - \\bar{y})^2}\n",
    "  \\end{equation}\n",
    "\n",
    "  \\begin{equation}\n",
    "  \\sum_{i=1}^{n}(x_{i} - \\bar{x})^2 = (3.63 - 3.35)^2 + (3.02 - 3.35)^2 + ... + (3.3 - 3.35)^2 = 0.8182\n",
    "  \\end{equation}\n",
    "  \\begin{equation}\n",
    "  \\sum_{i=1}^{n}(y_{i} - \\bar{y})^2 = (53.1 - 50.12)^2 + (49.7 - 50.12)^2 + ... + (50.4 - 50.12)^2 = 143.856\n",
    "  \\end{equation}\n",
    "  \\begin{equation}\n",
    "  \\sqrt{\\sum_{i=1}^{n}(x_{i} - \\bar{x})^2\\cdot\\sum_{i=1}^{n}(y_{i} - \\bar{y})^2} = \\sqrt{0.8182\\cdot143.856} = \\sqrt{117.703} = 10.8491\n",
    "  \\end{equation}\n",
    "\n",
    "  <li><b>Hitung Koefisien Korelasi</b></li>\n",
    "  \\begin{equation}\n",
    "  r=\\frac{\\sum_{i=1}^{n}(x_{i} - \\bar{x})\\cdot(y_{i} - \\bar{y})}{\\sqrt{\\sum_{i=1}^{n}(x_{i} - \\bar{x})^2\\cdot\\sum_{i=1}^{n}(y_{i} - \\bar{y})^2}}\n",
    "  \\end{equation}\n",
    "  \\begin{equation}\n",
    "  r = \\frac{5.101}{10.8491}\n",
    "  \\end{equation}\n",
    "\n",
    "  \\begin{equation}\n",
    "  r = 0.4701772\n",
    "  \\end{equation}\n",
    "</ol>\n",
    "\n",
    "Dengan demikian diperoleh koefisien korelasi antara variabel X (berat badan bayi) dan variabel Y (panjang badan bayi) sebesar r = 0.4701772 dengan kategori cukup kuat pada arah positif (berkorelasi positif). Sehingga dapat dikatakan berdasarkan data yang ada bahwa berat badan bayi cukup kuat mempengaruhi panjang badan pada bayi, makin berat bayi makin panjang juga badannya"
   ]
  },
  {
   "cell_type": "markdown",
   "metadata": {
    "id": "WzYQ4Wg5d776"
   },
   "source": [
    "# **Implementasi Program**\n",
    "\n",
    "Dengan melihat perhitungan koefisien korelasi diatas, buatlah sebuah fungsi dengan dua parameter bernama `korelasi_pearson(var_X, var_Y)` dimana ketika fungsi tersebut dieksekusi akan me-<i>return</i> nilai koefisien korelasi dari dua variabel tersebut dan kategorinya. Contoh :     \n",
    "\n",
    "    >>> # Inisialisasi variabel / data\n",
    "    >>> berat_bayi = [3.63, 3.02, 3.82, 3.42, 3.59, 2.87, 3.03, 3.46, 3.36, 3.3]\n",
    "    >>> panjang_bayi = [53.1, 49.7, 48.4, 54.2, 54.9, 43.7, 47.2, 45.2, 54.4, 50.4]\n",
    "\n",
    "    >>> # Panggil fungsi yang telah dibuat\n",
    "    >>> r, r_type = korelasi_pearson(var_X = berat_bayi, var_Y = panjang_bayi)\n",
    "\n",
    "    >>> # Tampilkan hasilnya\n",
    "    >>> print('Koefisien korelasi r = ', r, 'dengan kategori = ', r_type)\n",
    "    ... Koefisien korelasi r = 0.4701772 dengan kategori korelasi positif cukup kuat"
   ]
  },
  {
   "cell_type": "code",
   "execution_count": 63,
   "metadata": {
    "colab": {
     "base_uri": "https://localhost:8080/"
    },
    "id": "Sbw2yAuWUjAP",
    "outputId": "30b4173c-b3e8-4313-c0a0-35ab8305a390"
   },
   "outputs": [
    {
     "data": {
      "text/plain": [
       "2.23606797749979"
      ]
     },
     "execution_count": 63,
     "metadata": {},
     "output_type": "execute_result"
    }
   ],
   "source": [
    "# Anda hanya diperkenankan menggunakan library bantuan math untuk menghitung akar dari sebuah nilai\n",
    "\n",
    "# Import library math\n",
    "import math \n",
    "\n",
    "# Hitung akar dari 5\n",
    "math.sqrt(5)"
   ]
  },
  {
   "cell_type": "code",
   "execution_count": 48,
   "metadata": {
    "id": "HoKV5G-45dRR"
   },
   "outputs": [],
   "source": [
    "# Selamat mengerjakan!\n",
    "berat_bayi = [3.63, 3.02, 3.82, 3.42, 3.59, 2.87, 3.03, 3.46, 3.36, 3.3]\n",
    "panjang_bayi = [53.1, 49.7, 48.4, 54.2, 54.9, 43.7, 47.2, 45.2, 54.4, 50.4]\n",
    "halo = [1,2,3,4]"
   ]
  },
  {
   "cell_type": "code",
   "execution_count": 35,
   "metadata": {},
   "outputs": [],
   "source": [
    "'''\n",
    "    0 - 0.2 menyatakan hubungan keeratan sangat lemah\n",
    "    0.2 - 0.4 menyatakan hubungan keeratan lemah\n",
    "    0.4 - 0.7 menyatakan hubungan keeratan cukup kuat\n",
    "    0.7 - 0.9 menyatakan hubungan keeratan kuat\n",
    "    0,9 - 1 menyatakan hubungan keeratan sangat kuat.\n",
    "'''\n",
    "\n",
    "\n",
    "def status_relasi(r):\n",
    "    r_type = \"\"\n",
    "    if (r >= 0):\n",
    "        r_type += \"korelasi positif\"\n",
    "    else:\n",
    "        r_type += \"korelasi negatif\"\n",
    "    r = abs(float(r))\n",
    "    if(r >= 0 and r < 0.2):\n",
    "        r_type += \" sangat lemah\"\n",
    "    elif (r >= 0.2 and  r < 0.4):\n",
    "        r_type += \" lemah\"\n",
    "    elif (r >= 0.4 and  r < 0.7):\n",
    "        r_type += \" cukup kuat\"\n",
    "    elif (r >= 0.7 and  r < 0.9):\n",
    "        r_type += \" kuat\"\n",
    "    else:\n",
    "        r_type += \" sangat kuat\"\n",
    "    return r_type\n",
    "        "
   ]
  },
  {
   "cell_type": "code",
   "execution_count": 72,
   "metadata": {},
   "outputs": [
    {
     "name": "stdout",
     "output_type": "stream",
     "text": [
      "0.4701729159753715\n"
     ]
    }
   ],
   "source": [
    "def average(arr):\n",
    "    avg = sum(arr)/len(arr)\n",
    "    return avg\n",
    "average(panjang_bayi)\n",
    "\n",
    "\n",
    "def ceil(number, digits) -> float: return math.ceil((10.0 ** digits) * number) / (10.0 ** digits)\n",
    "\n",
    "def pembilang(arr_set):\n",
    "    averages = [average(arr) for arr in arr_set]\n",
    "    enum = 0\n",
    "    for idx, unit in enumerate(zip(*arr_set)):\n",
    "        k = 1\n",
    "        for idx_e, e in enumerate(unit):\n",
    "            avg_e = e - averages[idx_e]\n",
    "            k *= avg_e\n",
    "        enum += k\n",
    "    ceil_enum = ceil(enum,3) \n",
    "    return ceil_enum\n",
    "        \n",
    "def penyebut(arr_set):\n",
    "    averages = [average(arr) for arr in arr_set]\n",
    "    denom = 1\n",
    "    for idx, arr in enumerate(arr_set):\n",
    "        k = 0\n",
    "        avg_e = averages[idx]\n",
    "        for i,e in enumerate(arr):\n",
    "            k += (e - avg_e)**2 \n",
    "        denom *= k\n",
    "    ceil_denom = ceil(math.sqrt(denom), 4)\n",
    "    return ceil_denom\n",
    "            \n",
    "        \n",
    "        \n",
    "arr_set= [panjang_bayi, berat_bayi]\n",
    "a = pembilang(arr_set)/penyebut(arr_set)\n",
    "print(a)        \n",
    "\n",
    "        "
   ]
  },
  {
   "cell_type": "code",
   "execution_count": 76,
   "metadata": {},
   "outputs": [],
   "source": [
    "def korelasi_pearson(var_X, var_Y):\n",
    "    arr_set = [var_X, var_Y]\n",
    "    r = ceil(pembilang(arr_set)/penyebut(arr_set), 7)\n",
    "    r_type = status_relasi(r)\n",
    "    return r, r_type"
   ]
  },
  {
   "cell_type": "code",
   "execution_count": 77,
   "metadata": {},
   "outputs": [],
   "source": [
    "r, r_type = korelasi_pearson(var_X = berat_bayi, var_Y = panjang_bayi)"
   ]
  },
  {
   "cell_type": "code",
   "execution_count": 78,
   "metadata": {},
   "outputs": [
    {
     "name": "stdout",
     "output_type": "stream",
     "text": [
      "Koefisien korelasi r = 0.470173 dengan kategori korelasi positif cukup kuat\n"
     ]
    }
   ],
   "source": [
    "print('Koefisien korelasi r =', r, 'dengan kategori', r_type)"
   ]
  }
 ],
 "metadata": {
  "colab": {
   "provenance": []
  },
  "kernelspec": {
   "display_name": "Python 3",
   "language": "python",
   "name": "python3"
  },
  "language_info": {
   "codemirror_mode": {
    "name": "ipython",
    "version": 3
   },
   "file_extension": ".py",
   "mimetype": "text/x-python",
   "name": "python",
   "nbconvert_exporter": "python",
   "pygments_lexer": "ipython3",
   "version": "3.7.9"
  }
 },
 "nbformat": 4,
 "nbformat_minor": 1
}
